{
 "cells": [
  {
   "cell_type": "markdown",
   "id": "dc1cc716",
   "metadata": {},
   "source": [
    "## 1. Create the below pattern using nested for loop in Python."
   ]
  },
  {
   "cell_type": "code",
   "execution_count": null,
   "id": "60278477",
   "metadata": {
    "scrolled": true
   },
   "outputs": [],
   "source": [
    "number = 5\n",
    "for i in range(0, number):\n",
    "    for j in range(0, i + 1):\n",
    "        print(\"*\", end=' ')\n",
    "    print(\" \")\n",
    "for i in range(number + 1, 0, -1):\n",
    "    for j in range(0, i - 1):\n",
    "        print(\"*\", end=' ')\n",
    "    print(\" \")        "
   ]
  },
  {
   "cell_type": "markdown",
   "id": "15f79e6c",
   "metadata": {},
   "source": [
    "## 2. Write a Python program to reverse a word after accepting the input from the user."
   ]
  },
  {
   "cell_type": "code",
   "execution_count": null,
   "id": "b8a4c02a",
   "metadata": {},
   "outputs": [],
   "source": [
    "user_input=input('Enter name : ')\n",
    "name_length=len(user_input)\n",
    "reverse=user_input[name_length::-1]\n",
    "reverse"
   ]
  }
 ],
 "metadata": {
  "kernelspec": {
   "display_name": "Python 3",
   "language": "python",
   "name": "python3"
  },
  "language_info": {
   "codemirror_mode": {
    "name": "ipython",
    "version": 3
   },
   "file_extension": ".py",
   "mimetype": "text/x-python",
   "name": "python",
   "nbconvert_exporter": "python",
   "pygments_lexer": "ipython3",
   "version": "3.8.5"
  }
 },
 "nbformat": 4,
 "nbformat_minor": 5
}
